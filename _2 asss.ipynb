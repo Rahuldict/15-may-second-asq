{
 "cells": [
  {
   "cell_type": "code",
   "execution_count": 17,
   "id": "8e0d6fec-d36f-4188-bf47-b7c869cc44dd",
   "metadata": {},
   "outputs": [],
   "source": [
    "#Q1. How do you comment code in Python? What are the different types of comments?"
   ]
  },
  {
   "cell_type": "code",
   "execution_count": 18,
   "id": "078091bd-9df0-433f-bc3c-3bca61c6612b",
   "metadata": {},
   "outputs": [],
   "source": [
    "#ans = To comment code in Python, you can use the hash symbol (#) before the line of code you want to comment. There are two types of comments in Python: single-line comments and multi-line comments. Single-line comments are used to comment on a single line of code and start with the hash symbol (#). Multi-line comments are used to comment on multiple lines of code and start and end with three quotes (‘’')."
   ]
  },
  {
   "cell_type": "code",
   "execution_count": null,
   "id": "6bd8a81e-2eab-49d7-a19c-542d6b586bd3",
   "metadata": {},
   "outputs": [],
   "source": [
    "#this is a comment (#)"
   ]
  },
  {
   "cell_type": "code",
   "execution_count": 54,
   "id": "4e7f2abf-4984-4bca-b627-28c19cfa6bc2",
   "metadata": {},
   "outputs": [
    {
     "data": {
      "text/plain": [
       "'this one is also comment method()'"
      ]
     },
     "execution_count": 54,
     "metadata": {},
     "output_type": "execute_result"
    }
   ],
   "source": [
    "\"\"\"this one is also comment method(\"\"\"      \"\"\")\"\"\""
   ]
  },
  {
   "cell_type": "code",
   "execution_count": 19,
   "id": "415f475e-9a81-4134-bf5d-0048be1bf118",
   "metadata": {},
   "outputs": [],
   "source": [
    "#Q2. What are variables in Python? How do you declare and assign values to variables?"
   ]
  },
  {
   "cell_type": "code",
   "execution_count": 20,
   "id": "4874d6e8-e1b1-4d5a-b2d8-144e2eb46f03",
   "metadata": {},
   "outputs": [],
   "source": [
    "#ans = In Python, variables are used to store data values. To declare a variable in Python, you simply assign a value to it using the equal sign (=). For example, if you want to declare a variable named “x” and assign it the value 5, you would write “x = 5”. You can also assign multiple variables at once by separating them with commas. For example, “x, y, z = 1, 2, 3” would assign the values 1, 2, and 3 to variables x, y, and z respectively.\n"
   ]
  },
  {
   "cell_type": "code",
   "execution_count": 42,
   "id": "8139b86d-7e0d-47f7-89c8-16b040c4498b",
   "metadata": {},
   "outputs": [],
   "source": [
    "x = 5\n"
   ]
  },
  {
   "cell_type": "code",
   "execution_count": 43,
   "id": "02f1d491-b8b9-4c7d-b6e7-a5b12c81da83",
   "metadata": {},
   "outputs": [
    {
     "data": {
      "text/plain": [
       "5"
      ]
     },
     "execution_count": 43,
     "metadata": {},
     "output_type": "execute_result"
    }
   ],
   "source": [
    "x"
   ]
  },
  {
   "cell_type": "code",
   "execution_count": 50,
   "id": "8ef4586e-fbc9-46ab-94dc-2557c77463a2",
   "metadata": {},
   "outputs": [],
   "source": [
    "x=7\n",
    "y=8\n",
    "z=3"
   ]
  },
  {
   "cell_type": "code",
   "execution_count": 53,
   "id": "150c66d9-636a-4825-97a2-ce24ac749af4",
   "metadata": {},
   "outputs": [
    {
     "data": {
      "text/plain": [
       "(7, 8, 3)"
      ]
     },
     "execution_count": 53,
     "metadata": {},
     "output_type": "execute_result"
    }
   ],
   "source": [
    "x,y,z"
   ]
  },
  {
   "cell_type": "code",
   "execution_count": 22,
   "id": "96fbe669-218f-4cf3-99bd-175e6a1b023f",
   "metadata": {},
   "outputs": [],
   "source": [
    "#Q3. How do you convert one data type to another in Python?"
   ]
  },
  {
   "cell_type": "code",
   "execution_count": 23,
   "id": "880a33ce-0aaa-4ac9-8fca-8d4b838229a0",
   "metadata": {},
   "outputs": [],
   "source": [
    "#ans = To convert one data type to another in Python, you can use type conversion functions such as int(), float(), str(), etc. For example, if you have a string variable named “x” that contains the value “5”, you can convert it to an integer using the int() function like this: “x = int(x)”. Similarly, if you have an integer variable named “y” that contains the value 5, you can convert it to a string using the str() function like this: “y = str(y)”"
   ]
  },
  {
   "cell_type": "code",
   "execution_count": 24,
   "id": "1ded1670-4a6b-4687-98b5-6aa26256d054",
   "metadata": {},
   "outputs": [],
   "source": [
    "#Q4. How do you write and execute a Python script from the command line?"
   ]
  },
  {
   "cell_type": "code",
   "execution_count": 25,
   "id": "043ee6ec-2bd3-4d57-becc-cfb03b259c2f",
   "metadata": {},
   "outputs": [
    {
     "data": {
      "text/plain": [
       "'Save the file with a .py extension (e.g. my_script.py).\\nOpen a command prompt or terminal window.\\nNavigate to the directory where your Python script is saved.\\nType “python my_script.py” (without the quotes) and press Enter.'"
      ]
     },
     "execution_count": 25,
     "metadata": {},
     "output_type": "execute_result"
    }
   ],
   "source": [
    "#ans = Open a text editor and write your Python code.\n",
    "'''Save the file with a .py extension (e.g. my_script.py).\n",
    "Open a command prompt or terminal window.\n",
    "Navigate to the directory where your Python script is saved.\n",
    "Type “python my_script.py” (without the quotes) and press Enter.'''"
   ]
  },
  {
   "cell_type": "code",
   "execution_count": 26,
   "id": "de09dc45-b942-4fb3-93b6-1d441786fc70",
   "metadata": {},
   "outputs": [],
   "source": [
    "#Q5. Given a list my_list = [1, 2, 3, 4, 5], write the code to slice the list and obtain the sub-list [2, 3]."
   ]
  },
  {
   "cell_type": "code",
   "execution_count": 27,
   "id": "e951727b-36c4-41c1-adba-6d69767dd9d0",
   "metadata": {},
   "outputs": [],
   "source": [
    "#ans = \n",
    "\n",
    "my_list = [1, 2, 3, 4, 5]\n",
    "\n"
   ]
  },
  {
   "cell_type": "code",
   "execution_count": 28,
   "id": "4f5039be-34a2-4ea6-b73d-f33c9f34e3ac",
   "metadata": {},
   "outputs": [],
   "source": [
    "sub_list = my_list[1:3]"
   ]
  },
  {
   "cell_type": "code",
   "execution_count": 39,
   "id": "983f902f-2212-4c50-a0b1-cc14d14fd641",
   "metadata": {},
   "outputs": [
    {
     "data": {
      "text/plain": [
       "[2, 3]"
      ]
     },
     "execution_count": 39,
     "metadata": {},
     "output_type": "execute_result"
    }
   ],
   "source": [
    "sub_list"
   ]
  },
  {
   "cell_type": "code",
   "execution_count": 29,
   "id": "b43b9df6-767e-4a3b-bf2c-bf41d03d05d9",
   "metadata": {},
   "outputs": [],
   "source": [
    "#Q6. Q6. What is a complex number in mathematics, and how is it represented in Python?"
   ]
  },
  {
   "cell_type": "code",
   "execution_count": 30,
   "id": "9a0fe5c3-e66b-4fd2-83e4-6b2323b832b8",
   "metadata": {},
   "outputs": [],
   "source": [
    "#ans =  In mathematics, a complex number is a number that can be expressed in the form a + bi, where a and b are real numbers and i is the imaginary unit (i.e. i^2 = -1). In Python, complex numbers are represented using the “complex” data type. For example, you can create a complex number with the value 3 + 4i like this: “z = complex(3, 4)”."
   ]
  },
  {
   "cell_type": "code",
   "execution_count": 37,
   "id": "4e45224e-a823-41ec-83d9-a1797a08fb6b",
   "metadata": {},
   "outputs": [],
   "source": [
    "z = complex(3, 4)\n"
   ]
  },
  {
   "cell_type": "code",
   "execution_count": 38,
   "id": "ce9295b8-b22f-4358-95c4-f71e3f753c3e",
   "metadata": {},
   "outputs": [
    {
     "data": {
      "text/plain": [
       "(3+4j)"
      ]
     },
     "execution_count": 38,
     "metadata": {},
     "output_type": "execute_result"
    }
   ],
   "source": [
    "z"
   ]
  },
  {
   "cell_type": "code",
   "execution_count": 32,
   "id": "bdbdb126-3208-4695-ad30-a944fd1d5d8f",
   "metadata": {},
   "outputs": [],
   "source": [
    "#Q7. What is the correct way to declare a variable named age and assign the value 25 to it?"
   ]
  },
  {
   "cell_type": "code",
   "execution_count": 33,
   "id": "5fbfa116-c0a6-4c80-8387-dfce961db961",
   "metadata": {},
   "outputs": [],
   "source": [
    "#ans. = The correct way to declare a variable named age and assign the value 25 to it in Python is to use the equal sign (=) like this: “age = 25”"
   ]
  },
  {
   "cell_type": "code",
   "execution_count": 34,
   "id": "238963a5-d58b-463f-937c-a998bd0bb942",
   "metadata": {},
   "outputs": [],
   "source": [
    "age = 25"
   ]
  },
  {
   "cell_type": "code",
   "execution_count": 36,
   "id": "54f03fe4-2faf-402b-9c7c-4fd5acb8e6b6",
   "metadata": {},
   "outputs": [
    {
     "data": {
      "text/plain": [
       "25"
      ]
     },
     "execution_count": 36,
     "metadata": {},
     "output_type": "execute_result"
    }
   ],
   "source": [
    "age"
   ]
  },
  {
   "cell_type": "code",
   "execution_count": 40,
   "id": "07942b05-e3c6-4b4e-919c-dd16d2d5d2dc",
   "metadata": {},
   "outputs": [],
   "source": [
    "#Q8. Declare a variable named price and assign the value 9.99 to it. What data type does this variable belong to?"
   ]
  },
  {
   "cell_type": "code",
   "execution_count": 41,
   "id": "38e4f31c-00c7-4e0e-afe6-bf6ebb7c0310",
   "metadata": {},
   "outputs": [],
   "source": [
    "#ans =  To declare a variable named price and assign the value 9.99 to it in Python, you can use the equal sign (=) like this: “price = 9.99”. This variable belongs to the float data type."
   ]
  },
  {
   "cell_type": "code",
   "execution_count": 45,
   "id": "5dfae472-35be-4ce3-8ce2-f1a2447ee204",
   "metadata": {},
   "outputs": [
    {
     "data": {
      "text/plain": [
       "'price = 9.99'"
      ]
     },
     "execution_count": 45,
     "metadata": {},
     "output_type": "execute_result"
    }
   ],
   "source": [
    "\"price = 9.99\""
   ]
  },
  {
   "cell_type": "code",
   "execution_count": 46,
   "id": "f71853a7-44a2-4de9-9120-d09fd9e9f81d",
   "metadata": {},
   "outputs": [],
   "source": [
    "#Q9 . Create a variable named name and assign your full name to it as a string. How would you print the value of this variable?\n"
   ]
  },
  {
   "cell_type": "code",
   "execution_count": null,
   "id": "a9b0c57c-5062-4589-ad6b-3d5531be07d2",
   "metadata": {},
   "outputs": [],
   "source": [
    "#ans = To create a variable named name and assign your full name to it as a string in Python, you can use the equal sign (=) like this: “name = ‘Your Full Name’”. To print the value of this variable, you can use the print() function like this: “print(name)”.\n"
   ]
  },
  {
   "cell_type": "code",
   "execution_count": 55,
   "id": "ea0bacfa-e9f6-4289-86b1-6579c731fe6b",
   "metadata": {},
   "outputs": [],
   "source": [
    "name = \"Your Full Name\"  "
   ]
  },
  {
   "cell_type": "code",
   "execution_count": 64,
   "id": "66f47fdd-0a70-4572-8198-605fd5a9b011",
   "metadata": {},
   "outputs": [
    {
     "name": "stdout",
     "output_type": "stream",
     "text": [
      "Your Full Name\n"
     ]
    }
   ],
   "source": [
    "print(name)"
   ]
  },
  {
   "cell_type": "code",
   "execution_count": 65,
   "id": "3cd1673a-e5c1-422f-89ee-640620c670f2",
   "metadata": {},
   "outputs": [],
   "source": [
    "#Q 10  Given the string \"Hello, World!\", extract the substring \"World\"."
   ]
  },
  {
   "cell_type": "code",
   "execution_count": 66,
   "id": "70bf0d90-8bfc-4e3e-9a0b-d11acfa4db41",
   "metadata": {},
   "outputs": [],
   "source": [
    "#ans = To extract the substring “World” from the string “Hello, World!” in Python, you can use string slicing with the slice operator “:” like this: “s = ‘Hello, World!’; sub = s[7:12]”"
   ]
  },
  {
   "cell_type": "code",
   "execution_count": 26,
   "id": "ff205d05-73e7-4033-83ae-707eadc5e024",
   "metadata": {},
   "outputs": [],
   "source": [
    "s = \"Hello, World!\";"
   ]
  },
  {
   "cell_type": "code",
   "execution_count": 27,
   "id": "6d6785ae-d324-4e07-a4f0-a1b84cb0dcc6",
   "metadata": {},
   "outputs": [],
   "source": [
    "sub = s[7:12]"
   ]
  },
  {
   "cell_type": "code",
   "execution_count": 28,
   "id": "34ef6405-f6d4-435c-918b-3cf8a67ec057",
   "metadata": {},
   "outputs": [
    {
     "data": {
      "text/plain": [
       "'World'"
      ]
     },
     "execution_count": 28,
     "metadata": {},
     "output_type": "execute_result"
    }
   ],
   "source": [
    "sub"
   ]
  },
  {
   "cell_type": "code",
   "execution_count": 29,
   "id": "c9a920d6-21e9-4a02-b9e3-32d29543bd39",
   "metadata": {},
   "outputs": [],
   "source": [
    "#Q11. Create a variable named \"is_student\" and assign it a boolean value indicating whether you are currently a student or not.\n"
   ]
  },
  {
   "cell_type": "code",
   "execution_count": null,
   "id": "820ed804-c9bc-4dcc-b4d9-0055ef860ce2",
   "metadata": {},
   "outputs": [],
   "source": [
    "#ans = To create a variable named “is_student” and assign it a boolean value indicating whether you are currently a student or not in Python, you can use the equal sign (=) like this: “is_student = True” if you are currently a student or “is_student = False” if you are not."
   ]
  },
  {
   "cell_type": "code",
   "execution_count": 35,
   "id": "3459e3f4-252c-462c-aefe-ce23a263a8fb",
   "metadata": {},
   "outputs": [],
   "source": [
    "is_student = True\n"
   ]
  },
  {
   "cell_type": "code",
   "execution_count": 36,
   "id": "54d8098a-c5e2-4747-8326-19700d8661b3",
   "metadata": {},
   "outputs": [
    {
     "data": {
      "text/plain": [
       "True"
      ]
     },
     "execution_count": 36,
     "metadata": {},
     "output_type": "execute_result"
    }
   ],
   "source": [
    "is_student"
   ]
  },
  {
   "cell_type": "code",
   "execution_count": 38,
   "id": "c30f67dd-b536-44b7-9c1c-effcef884faa",
   "metadata": {},
   "outputs": [],
   "source": [
    "is_student = False"
   ]
  },
  {
   "cell_type": "code",
   "execution_count": 39,
   "id": "cf9a39ef-2f65-4395-af1f-6a7ec68538b7",
   "metadata": {},
   "outputs": [
    {
     "data": {
      "text/plain": [
       "False"
      ]
     },
     "execution_count": 39,
     "metadata": {},
     "output_type": "execute_result"
    }
   ],
   "source": [
    "is_student"
   ]
  },
  {
   "cell_type": "code",
   "execution_count": null,
   "id": "1e82bcdb-852a-4e5b-ba86-41efd4d860d1",
   "metadata": {},
   "outputs": [],
   "source": []
  }
 ],
 "metadata": {
  "kernelspec": {
   "display_name": "Python 3 (ipykernel)",
   "language": "python",
   "name": "python3"
  },
  "language_info": {
   "codemirror_mode": {
    "name": "ipython",
    "version": 3
   },
   "file_extension": ".py",
   "mimetype": "text/x-python",
   "name": "python",
   "nbconvert_exporter": "python",
   "pygments_lexer": "ipython3",
   "version": "3.10.8"
  }
 },
 "nbformat": 4,
 "nbformat_minor": 5
}
